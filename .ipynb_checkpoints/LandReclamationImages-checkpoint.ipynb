{
 "cells": [
  {
   "cell_type": "code",
   "execution_count": 1,
   "id": "7104cc6f-b93e-49e3-a09e-1b47a3c29ab5",
   "metadata": {},
   "outputs": [
    {
     "ename": "ModuleNotFoundError",
     "evalue": "No module named 'PIL'",
     "output_type": "error",
     "traceback": [
      "\u001b[1;31m---------------------------------------------------------------------------\u001b[0m",
      "\u001b[1;31mModuleNotFoundError\u001b[0m                       Traceback (most recent call last)",
      "Cell \u001b[1;32mIn[1], line 1\u001b[0m\n\u001b[1;32m----> 1\u001b[0m \u001b[38;5;28;01mfrom\u001b[39;00m \u001b[38;5;21;01mPIL\u001b[39;00m \u001b[38;5;28;01mimport\u001b[39;00m Image\n\u001b[0;32m      2\u001b[0m \u001b[38;5;28;01mimport\u001b[39;00m \u001b[38;5;21;01mnumpy\u001b[39;00m \u001b[38;5;28;01mas\u001b[39;00m \u001b[38;5;21;01mnp\u001b[39;00m\n\u001b[0;32m      4\u001b[0m \u001b[38;5;66;03m# Load the image\u001b[39;00m\n",
      "\u001b[1;31mModuleNotFoundError\u001b[0m: No module named 'PIL'"
     ]
    }
   ],
   "source": [
    "from PIL import Image\n",
    "import numpy as np\n",
    "\n",
    "# Load the image\n",
    "image_path = \"C:/Users/maxwe/Downloads/NJ_StatenIsland_255391_1900_62500_geo_tif/NJ_Staten Island_255391_1900_62500_geo.tif\"\n",
    "image = Image.open(image_path)\n"
   ]
  },
  {
   "cell_type": "code",
   "execution_count": null,
   "id": "e208446f-fb18-408c-bdc5-c832305a1c8e",
   "metadata": {},
   "outputs": [],
   "source": [
    "# Convert to numpy array for further processing\n",
    "image_array = np.array(image)\n",
    "\n",
    "# Display the original image\n",
    "image_array.shape, image_array.dtype\n"
   ]
  },
  {
   "cell_type": "code",
   "execution_count": null,
   "id": "d1973989-eadd-4944-8c44-93041cf1792a",
   "metadata": {},
   "outputs": [],
   "source": [
    "import cv2\n",
    "\n",
    "# Convert the image to HSV color space\n",
    "image_hsv = cv2.cvtColor(image_array, cv2.COLOR_RGB2HSV)\n",
    "\n",
    "# Display some properties of the HSV image\n",
    "image_hsv.shape, image_hsv.dtype"
   ]
  },
  {
   "cell_type": "code",
   "execution_count": null,
   "id": "a210b803-0c12-4cbd-8263-81ac9d9ab81e",
   "metadata": {},
   "outputs": [],
   "source": [
    "# Define range for blue color in HSV\n",
    "lower_blue = np.array([40, 50, 50])\n",
    "upper_blue = np.array([180, 255, 255])\n",
    "\n",
    "# Create a mask\n",
    "mask_blue = cv2.inRange(image_hsv, lower_blue, upper_blue)\n",
    "\n",
    "# Apply the mask to get the blue areas\n",
    "blue_areas = cv2.bitwise_and(image_array, image_array, mask=mask_blue)\n",
    "\n",
    "# Display some properties of the masked image\n",
    "blue_areas.shape, blue_areas.dtype"
   ]
  },
  {
   "cell_type": "code",
   "execution_count": null,
   "id": "8c3aba4c-3029-439d-9915-3ddf32e83b0c",
   "metadata": {},
   "outputs": [],
   "source": [
    "# Save the resulting image\n",
    "blue_areas_img = Image.fromarray(blue_areas)\n",
    "blue_areas_path = \"/mnt/data/blue_areas.tif\"\n",
    "blue_areas_img.save(blue_areas_path)\n",
    "\n",
    "blue_areas_path"
   ]
  }
 ],
 "metadata": {
  "kernelspec": {
   "display_name": "Python 3 (ipykernel)",
   "language": "python",
   "name": "python3"
  },
  "language_info": {
   "codemirror_mode": {
    "name": "ipython",
    "version": 3
   },
   "file_extension": ".py",
   "mimetype": "text/x-python",
   "name": "python",
   "nbconvert_exporter": "python",
   "pygments_lexer": "ipython3",
   "version": "3.11.4"
  }
 },
 "nbformat": 4,
 "nbformat_minor": 5
}
